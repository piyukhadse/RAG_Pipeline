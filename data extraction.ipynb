{
 "cells": [
  {
   "cell_type": "code",
   "execution_count": 7,
   "metadata": {},
   "outputs": [],
   "source": [
    "import os\n",
    "from pdf2image import convert_from_path\n",
    "from pytesseract import image_to_string\n",
    "from pathlib import Path\n",
    "import pytesseract\n"
   ]
  },
  {
   "cell_type": "code",
   "execution_count": 8,
   "metadata": {},
   "outputs": [],
   "source": [
    "# Set the path to the Tesseract executable (adjust this according to your installation)\n",
    "pytesseract.pytesseract.tesseract_cmd = r'C:\\Program Files\\Tesseract-OCR\\tesseract.exe'"
   ]
  },
  {
   "cell_type": "code",
   "execution_count": 10,
   "metadata": {},
   "outputs": [],
   "source": [
    "# Function to convert PDF to images and extract text using Tesseract\n",
    "def extract_text_from_pdf(pdf_path, languages='urd+ben+eng+chi_sim'):\n",
    "    # Convert PDF to images\n",
    "    images = convert_from_path(pdf_path)\n",
    "    \n",
    "    # Initialize a string to store the extracted text\n",
    "    text = \"\"\n",
    "    \n",
    "    # Extract text from each image using Tesseract\n",
    "    for image in images:\n",
    "        text += pytesseract.image_to_string(image, lang=languages)\n",
    "    \n",
    "    return text\n"
   ]
  },
  {
   "cell_type": "code",
   "execution_count": 11,
   "metadata": {},
   "outputs": [],
   "source": [
    "# Function to process PDFs in multiple folders (en, ur, bn, zh) and extract text\n",
    "def extract_text_from_multiple_folders(root_directory):\n",
    "    extracted_data = {}\n",
    "    \n",
    "    # List of language folder names\n",
    "    language_folders = ['en', 'ur', 'bn', 'zh']\n",
    "    \n",
    "    # Iterate over each language folder\n",
    "    for language in language_folders:\n",
    "        folder_path = os.path.join(root_directory, language)\n",
    "        if os.path.exists(folder_path):\n",
    "            language_data = []\n",
    "            \n",
    "            # Iterate over each PDF file in the folder\n",
    "            for filename in os.listdir(folder_path):\n",
    "                if filename.endswith(\".pdf\"):\n",
    "                    pdf_path = os.path.join(folder_path, filename)\n",
    "                    print(f\"Processing {filename} in {language} folder...\")\n",
    "                    \n",
    "                    # Extract text from the PDF\n",
    "                    text = extract_text_from_pdf(pdf_path)\n",
    "                    \n",
    "                    # Store the extracted text along with the filename\n",
    "                    language_data.append({\"filename\": filename, \"text\": text})\n",
    "            \n",
    "            # Add the extracted data for the language to the result dictionary\n",
    "            extracted_data[language] = language_data\n",
    "    \n",
    "    return extracted_data"
   ]
  },
  {
   "cell_type": "code",
   "execution_count": 12,
   "metadata": {},
   "outputs": [
    {
     "name": "stdout",
     "output_type": "stream",
     "text": [
      "Processing Blue_Ocean_Strategy,_Expanded_Edition_How_to_Create_Uncontested-2.pdf in en folder...\n",
      "Processing Reboot_Leadership_and_the_Art_of.pdf in en folder...\n",
      "Processing The Alchemist by Paulo Coelho-1.pdf in en folder...\n",
      "Processing 12-Rabiul-Awal-2024.pdf in ur folder...\n",
      "Processing Extension-of-Ahdoc-Employees.pdf in ur folder...\n",
      "Processing fasana-e-ajaib final.pdf in ur folder...\n",
      "Processing Notification-for-Other-Nationals.pdf in ur folder...\n",
      "Processing shora e rampur.pdf in ur folder...\n",
      "Processing Solidarity-Day.pdf in ur folder...\n",
      "Processing حیات جاوید، سوانح سر سید احمد خاں.pdf in ur folder...\n",
      "Processing 15092024_142.pdf in bn folder...\n",
      "Processing 471 (TO).pdf in bn folder...\n",
      "Processing AP Ramjan.pdf in bn folder...\n",
      "Processing NEC-14.pdf in bn folder...\n",
      "Processing Research Nirdeshika.pdf in bn folder...\n",
      "Processing আহম্মেদNOC.pdf in bn folder...\n",
      "Processing 1553a07b-9f53-4e8b-9987-ae714000b95b.pdf in zh folder...\n",
      "Processing 98aab034-f8d7-4f6e-9a0c-b52c12f55ce7.pdf in zh folder...\n",
      "Processing ec2def2f-cc7b-44f3-87d1-24dc82f3a0ca.pdf in zh folder...\n",
      "Processing P020230313555181904759.pdf in zh folder...\n",
      "Processing P020230907694757200665.pdf in zh folder...\n",
      "Processing P020230907695746624812.pdf in zh folder...\n"
     ]
    }
   ],
   "source": [
    "# Example: Process a single PDF file\n",
    "root_directory = 'sample_pdfs'  \n",
    "extracted_text = extract_text_from_multiple_folders(root_directory)"
   ]
  },
  {
   "cell_type": "code",
   "execution_count": 13,
   "metadata": {},
   "outputs": [
    {
     "name": "stdout",
     "output_type": "stream",
     "text": [
      "Extracted data saved to...\n"
     ]
    }
   ],
   "source": [
    "import json\n",
    "\n",
    "with open('extracted_text_data.json', 'w', encoding='utf-8') as json_file:\n",
    "        json.dump(extracted_text, json_file, ensure_ascii=False, indent=4)\n",
    "    \n",
    "print(f\"Extracted data saved to...\")\n"
   ]
  },
  {
   "cell_type": "code",
   "execution_count": null,
   "metadata": {},
   "outputs": [],
   "source": []
  }
 ],
 "metadata": {
  "kernelspec": {
   "display_name": "multilingual",
   "language": "python",
   "name": "python3"
  },
  "language_info": {
   "codemirror_mode": {
    "name": "ipython",
    "version": 3
   },
   "file_extension": ".py",
   "mimetype": "text/x-python",
   "name": "python",
   "nbconvert_exporter": "python",
   "pygments_lexer": "ipython3",
   "version": "3.9.0"
  }
 },
 "nbformat": 4,
 "nbformat_minor": 2
}
